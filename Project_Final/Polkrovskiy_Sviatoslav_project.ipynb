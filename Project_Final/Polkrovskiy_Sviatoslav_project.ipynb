{
 "cells": [
  {
   "cell_type": "markdown",
   "id": "63b3c40f",
   "metadata": {},
   "source": [
    "# Project Pokrovskiy Sviatoslav"
   ]
  },
  {
   "cell_type": "markdown",
   "id": "8a727746",
   "metadata": {},
   "source": [
    "## Paper: BinaryConnect: Training Deep Neural Networks with binary weights during propagations"
   ]
  },
  {
   "cell_type": "markdown",
   "id": "8609b35d",
   "metadata": {},
   "source": [
    "The main point of the selected article that all my privious expirience using NN was finished at the moment of training then my computer could not make necessary calculations. I keen on studing varios way to using the deep leaning metods on not such power devices.\n",
    "In this part of project i try to understand the approach of BinaryConnect and use it in fasion MNIST dataset.\n",
    "The authors use library PyLearn2 wich doesn't work on python3 and higher. It was a great problem for me, but i use their code for understading using of BinaryConnect.\n",
    "Here i use pytorch."
   ]
  },
  {
   "cell_type": "markdown",
   "id": "f816a1dd",
   "metadata": {},
   "source": [
    "Marking up the clothing category"
   ]
  },
  {
   "cell_type": "code",
   "execution_count": 1,
   "id": "a721b06b",
   "metadata": {},
   "outputs": [],
   "source": [
    "def output_label(label):\n",
    "    output_mapping = {\n",
    "                 0: \"T-shirt/Top\",\n",
    "                 1: \"Trouser\",\n",
    "                 2: \"Pullover\",\n",
    "                 3: \"Dress\",\n",
    "                 4: \"Coat\", \n",
    "                 5: \"Sandal\", \n",
    "                 6: \"Shirt\",\n",
    "                 7: \"Sneaker\",\n",
    "                 8: \"Bag\",\n",
    "                 9: \"Ankle Boot\"\n",
    "                 }\n",
    "    input = (label.item() if type(label) == torch.Tensor else label)\n",
    "    return output_mapping[input]"
   ]
  },
  {
   "cell_type": "markdown",
   "id": "320ec3c9",
   "metadata": {},
   "source": [
    "### Customization the layers and conv2d for BinaryConnect"
   ]
  },
  {
   "cell_type": "code",
   "execution_count": 2,
   "id": "70945c7a",
   "metadata": {},
   "outputs": [],
   "source": [
    "import torch\n",
    "from torch.nn import Module, Conv2d, Linear\n",
    "from torch.nn.functional import linear, conv2d\n",
    "\n",
    "def Binarize(tensor,quant_mode='det'):\n",
    "    if quant_mode=='det':\n",
    "        return tensor.sign()\n",
    "    if quant_mode=='bin':\n",
    "        return (tensor>=0).type(type(tensor))*2-1\n",
    "    else:\n",
    "        return tensor.add_(1).div_(2).add_(torch.rand(tensor.size()).add(-0.5)).clamp_(0,1).round().mul_(2).add_(-1)\n",
    "\n",
    "\n",
    "class BNNLinear(Linear):\n",
    "\n",
    "    def __init__(self, *kargs, **kwargs):\n",
    "        super(BNNLinear, self).__init__(*kargs, **kwargs)\n",
    "        self.register_buffer('weight_org', self.weight.data.clone())\n",
    "\n",
    "    def forward(self, input):\n",
    "\n",
    "        if (input.size(1) != 784) and (input.size(1) != 3072):\n",
    "            input.data=Binarize(input.data)\n",
    "            \n",
    "        self.weight.data=Binarize(self.weight_org)\n",
    "        out = linear(input, self.weight)\n",
    "\n",
    "        if not self.bias is None:\n",
    "            self.bias.org=self.bias.data.clone()\n",
    "            out += self.bias.view(1, -1).expand_as(out)\n",
    "\n",
    "        return out\n",
    "    \n",
    "\n",
    "class BNNConv2d(Conv2d):\n",
    "\n",
    "    def __init__(self, *kargs, **kwargs):\n",
    "        super(BNNConv2d, self).__init__(*kargs, **kwargs)\n",
    "        self.register_buffer('weight_org', self.weight.data.clone())\n",
    "\n",
    "    def forward(self, input):\n",
    "        if input.size(1) != 3:\n",
    "            input.data = Binarize(input.data)\n",
    "        \n",
    "        self.weight.data=Binarize(self.weight_org)\n",
    "        \n",
    "\n",
    "        out = conv2d(input, self.weight, None, self.stride,\n",
    "                                   self.padding, self.dilation, self.groups)\n",
    "\n",
    "        if not self.bias is None:\n",
    "            self.bias.org=self.bias.data.clone()\n",
    "            out += self.bias.view(1, -1, 1, 1).expand_as(out)\n",
    "\n",
    "        return out\n",
    "    "
   ]
  },
  {
   "cell_type": "markdown",
   "id": "f566a549",
   "metadata": {},
   "source": [
    "### Customization the model of BNN"
   ]
  },
  {
   "cell_type": "code",
   "execution_count": 3,
   "id": "6bf653cd",
   "metadata": {},
   "outputs": [],
   "source": [
    "import torch.nn as nn\n",
    "\n",
    "class BNNCaffenet(nn.Module):\n",
    "\n",
    "    def __init__(self, num_classes=10):\n",
    "        super(BNNCaffenet, self).__init__()\n",
    " \n",
    "        self.features = nn.Sequential(\n",
    "                \n",
    "                BNNConv2d(1, 96, kernel_size=3, stride=1, padding=1, bias=False),\n",
    "                nn.BatchNorm2d(96),\n",
    "                nn.Hardtanh(inplace=True),\n",
    "                nn.MaxPool2d(kernel_size=2, stride=2, padding=0, ceil_mode=True),\n",
    "                \n",
    "                BNNConv2d(96, 192, kernel_size=3, stride=1, padding=1, bias=False),\n",
    "                nn.BatchNorm2d(192),\n",
    "                nn.Hardtanh(inplace=True),\n",
    "                nn.MaxPool2d(kernel_size=2, stride=2, padding=0, ceil_mode=True),\n",
    "                \n",
    "                BNNConv2d(192, 288, kernel_size=3, stride=1, padding=1, bias=False),\n",
    "                nn.BatchNorm2d(288),\n",
    "                nn.Hardtanh(inplace=True),\n",
    "                nn.MaxPool2d(kernel_size=2, stride=2, padding=0, ceil_mode=True),\n",
    "                \n",
    "                nn.Flatten(),\n",
    "                nn.BatchNorm1d(4608),\n",
    "                nn.Hardtanh(inplace=True),\n",
    "                BNNLinear(4608, num_classes),\n",
    "                nn.BatchNorm1d(num_classes, affine=False),\n",
    "                nn.LogSoftmax(dim=1),\n",
    "        )\n",
    "\n",
    "    def forward(self, x):\n",
    "        return self.features(x)\n",
    "\n",
    "\n",
    "    def init_w(self):\n",
    "        # weight initialization\n",
    "        for m in self.modules():\n",
    "            if isinstance(m, nn.Conv2d):\n",
    "                nn.init.kaiming_normal_(m.weight, mode='fan_out')\n",
    "                if m.bias is not None:\n",
    "                    nn.init.zeros_(m.bias)\n",
    "            elif isinstance(m, nn.BatchNorm2d):\n",
    "                nn.init.ones_(m.weight)\n",
    "                nn.init.zeros_(m.bias)\n",
    "            elif isinstance(m, nn.Linear):\n",
    "                nn.init.normal_(m.weight, 0, 0.01)\n",
    "                nn.init.zeros_(m.bias)\n",
    "        return\n",
    "\n",
    "\n",
    "def bnn_caffenet(num_classes=10):\n",
    "    return BNNCaffenet(num_classes)\n"
   ]
  },
  {
   "cell_type": "markdown",
   "id": "74fc7b87",
   "metadata": {},
   "source": [
    "### Customization the classifier of the model and saving the best model"
   ]
  },
  {
   "cell_type": "code",
   "execution_count": 4,
   "id": "62ea8786",
   "metadata": {},
   "outputs": [],
   "source": [
    "import os\n",
    "import numpy as np\n",
    "from torch import save, no_grad\n",
    "from tqdm import tqdm\n",
    "import shutil\n",
    "\n",
    "\n",
    "class Classifier():\n",
    "    def __init__(self, model, train_loader=None, test_loader=None, device=None):\n",
    "        super().__init__()\n",
    "        self.model = model\n",
    "        self.train_loader = train_loader\n",
    "        self.test_loader = test_loader\n",
    "        self.device = device\n",
    "\n",
    "\n",
    "    @staticmethod\n",
    "    def save_checkpoint(state, is_best, checkpoint):\n",
    "        head, tail = os.path.split(checkpoint)\n",
    "        if not os.path.exists(head):\n",
    "            os.makedirs(head)\n",
    "\n",
    "        filename = os.path.join(head, '{0}_checkpoint.pth.tar'.format(tail))\n",
    "        save(state, filename)\n",
    "        if is_best:\n",
    "            shutil.copyfile(filename, os.path.join(head,\n",
    "                '{0}_best.pth.tar'.format(tail)))\n",
    "\n",
    "        return\n",
    "\n",
    "    def test(self, criterion):\n",
    "        self.model.eval()\n",
    "        top1 = 0\n",
    "        test_loss = 0.\n",
    "\n",
    "        with no_grad():\n",
    "            for data, target in tqdm(self.test_loader):\n",
    "                data, target = data.to(self.device), target.to(self.device)\n",
    "                output = self.model(data)\n",
    "                test_loss += criterion(output, target).item()\n",
    "                pred = output.argmax(dim=1, keepdim=True)      \n",
    "                top1 += pred.eq(target.view_as(pred)).sum().item()\n",
    "\n",
    "        top1_acc = 100. * top1 / len(self.test_loader.sampler)\n",
    "\n",
    "        return top1_acc\n",
    "\n",
    "\n",
    "    def top1_accuracy(self):\n",
    "        return top1_accuracy(self.model, self.test_loader, self.device)\n",
    "\n",
    "\n",
    "    \n",
    "    def train_step(self, criterion, optimizer):\n",
    "        losses = []\n",
    "        for data, target in tqdm(self.train_loader,\n",
    "                total=len(self.train_loader)):\n",
    "            data, target = data.to(self.device), target.to(self.device)\n",
    "            output = self.model(data)\n",
    "            loss = criterion(output, target)\n",
    "            losses.append(loss.item())\n",
    "            optimizer.zero_grad()\n",
    "            loss.backward()\n",
    "            for p in self.model.modules():\n",
    "                if hasattr(p, 'weight_org'):\n",
    "                    p.weight.data.copy_(p.weight_org)\n",
    "            optimizer.step()\n",
    "            for p in self.model.modules():\n",
    "                if hasattr(p, 'weight_org'):\n",
    "                    p.weight_org.data.copy_(p.weight.data.clamp_(-1,1))\n",
    "        return losses\n",
    "  \n",
    "    \n",
    "    def train(self, criterion, optimizer, epochs, scheduler,\n",
    "            checkpoint=None):\n",
    "\n",
    "        if checkpoint is None:\n",
    "            raise ValueError('Specify a valid checkpoint')\n",
    "\n",
    "        \n",
    "        best_accuracy = 0.\n",
    "\n",
    "        losses = []\n",
    "        accuracies = []\n",
    "\n",
    "        for epoch in range(1, epochs+1):\n",
    "            self.model.train()\n",
    "            epoch_losses = self.train_step(criterion, optimizer)\n",
    "            losses += epoch_losses\n",
    "            epoch_losses = np.array(epoch_losses)\n",
    "            lr = optimizer.param_groups[0]['lr']  \n",
    "            test_accuracy = self.test(criterion)\n",
    "            accuracies.append(test_accuracy)\n",
    "            if scheduler:     \n",
    "                scheduler.step()\n",
    "            is_best = test_accuracy > best_accuracy\n",
    "            if is_best:\n",
    "                best_accuracy = test_accuracy\n",
    "            \n",
    "            print('Train Epoch {0}\\t Loss: {1:.6f}\\t Test Accuracy {2:.3f} \\t lr: {3:.4f}'\n",
    "                    .format(epoch, epoch_losses.mean(), test_accuracy, lr))\n",
    "            print('Best accuracy: {:.3f} '.format(best_accuracy))\n",
    "\n",
    "            self.save_checkpoint({\n",
    "                'epoch': epoch+1,\n",
    "                'state_dict': self.model.state_dict(),\n",
    "                'best_accuracy': best_accuracy,\n",
    "                'optimizer': optimizer.state_dict(),\n",
    "                'criterion': criterion,\n",
    "                }, is_best, checkpoint)\n",
    "\n",
    "        plt.plot(accuracies)\n",
    "        plt.xlabel(\"No. of Epoch\")\n",
    "        plt.ylabel(\"Accuracies\")\n",
    "        plt.title(\"Accuracies by epoch\")\n",
    "        plt.show()\n",
    "        return "
   ]
  },
  {
   "cell_type": "markdown",
   "id": "324e711e",
   "metadata": {},
   "source": [
    "### Customization the model for comparison"
   ]
  },
  {
   "cell_type": "code",
   "execution_count": 5,
   "id": "7f7dbe9d",
   "metadata": {},
   "outputs": [],
   "source": [
    "class FashionNN(nn.Module):\n",
    "    \n",
    "    def __init__(self, num_classes = 10):\n",
    "        super(FashionNN, self).__init__()\n",
    "        \n",
    "        self.features = nn.Sequential(\n",
    "            nn.Conv2d(1, 96, kernel_size=3, stride=1, padding=1, bias=False),\n",
    "            nn.BatchNorm2d(96),\n",
    "            nn.Hardtanh(inplace=True),\n",
    "            nn.MaxPool2d(kernel_size=2, stride=2, padding=0, ceil_mode=True),\n",
    "            \n",
    "            nn.Conv2d(96, 192, kernel_size=3, stride=1, padding=1, bias=False),\n",
    "            nn.BatchNorm2d(192),\n",
    "            nn.Hardtanh(inplace=True),\n",
    "            nn.MaxPool2d(kernel_size=2, stride=2, padding=0, ceil_mode=True),\n",
    "            \n",
    "            nn.Conv2d(192, 288, kernel_size=3, stride=1, padding=1, bias=False),\n",
    "            nn.BatchNorm2d(288),\n",
    "            nn.Hardtanh(inplace=True),\n",
    "            nn.MaxPool2d(kernel_size=2, stride=2, padding=0, ceil_mode=True),\n",
    "            \n",
    "            nn.Flatten(),\n",
    "            nn.BatchNorm1d(4608),\n",
    "            nn.Hardtanh(inplace=True),\n",
    "            nn.Linear(4608, num_classes),\n",
    "            nn.BatchNorm1d(num_classes, affine=False),\n",
    "            nn.LogSoftmax(dim=1),\n",
    "        )\n",
    "    \n",
    "    def forward(self, x):\n",
    "        return self.features(x)\n",
    "        \n",
    "        return out"
   ]
  },
  {
   "cell_type": "markdown",
   "id": "c4f2b51d",
   "metadata": {},
   "source": [
    "### Configurable parameters"
   ]
  },
  {
   "cell_type": "code",
   "execution_count": 6,
   "id": "98809794",
   "metadata": {},
   "outputs": [
    {
     "name": "stdout",
     "output_type": "stream",
     "text": [
      "LR = 0.001\n",
      "Steps = [80, 200]\n",
      "Gamma = 0.1\n",
      "num_epochs = 15\n",
      "Checkpoint = results/bnn_caffenet_fasion_MNIST\n"
     ]
    }
   ],
   "source": [
    "# LR \n",
    "lr = .001\n",
    "print(\"LR = \"+str(lr))\n",
    "\n",
    "# Steps\n",
    "steps = [80,200]\n",
    "print(\"Steps = \"+str(steps))\n",
    "\n",
    "# Gamma\n",
    "gamma = 0.1\n",
    "print(\"Gamma = \"+str(gamma))\n",
    "\n",
    "# Num_epochs\n",
    "epochs = 15\n",
    "print(\"num_epochs = \"+str(epochs))\n",
    "\n",
    "# Checkpoint\n",
    "checkpoint = \"results/bnn_caffenet_fasion_MNIST\"\n",
    "print(\"Checkpoint = \"+str(checkpoint))\n",
    " "
   ]
  },
  {
   "cell_type": "markdown",
   "id": "bbbef600",
   "metadata": {},
   "source": [
    "### Realization of the BNN model"
   ]
  },
  {
   "cell_type": "code",
   "execution_count": 8,
   "id": "b6c95988",
   "metadata": {
    "scrolled": false
   },
   "outputs": [
    {
     "name": "stderr",
     "output_type": "stream",
     "text": [
      "100%|█████████████████████████████████████████| 600/600 [04:22<00:00,  2.29it/s]\n",
      "100%|█████████████████████████████████████████| 100/100 [00:09<00:00, 10.88it/s]\n"
     ]
    },
    {
     "name": "stdout",
     "output_type": "stream",
     "text": [
      "Train Epoch 1\t Loss: 1.390142\t Test Accuracy 66.210 \t lr: 0.0010\n",
      "Best accuracy: 66.210 \n"
     ]
    },
    {
     "name": "stderr",
     "output_type": "stream",
     "text": [
      "100%|█████████████████████████████████████████| 600/600 [04:23<00:00,  2.27it/s]\n",
      "100%|█████████████████████████████████████████| 100/100 [00:09<00:00, 11.11it/s]\n"
     ]
    },
    {
     "name": "stdout",
     "output_type": "stream",
     "text": [
      "Train Epoch 2\t Loss: 1.121486\t Test Accuracy 69.000 \t lr: 0.0010\n",
      "Best accuracy: 69.000 \n"
     ]
    },
    {
     "name": "stderr",
     "output_type": "stream",
     "text": [
      "100%|█████████████████████████████████████████| 600/600 [04:25<00:00,  2.26it/s]\n",
      "100%|█████████████████████████████████████████| 100/100 [00:09<00:00, 11.03it/s]\n"
     ]
    },
    {
     "name": "stdout",
     "output_type": "stream",
     "text": [
      "Train Epoch 3\t Loss: 1.046945\t Test Accuracy 72.550 \t lr: 0.0010\n",
      "Best accuracy: 72.550 \n"
     ]
    },
    {
     "name": "stderr",
     "output_type": "stream",
     "text": [
      "100%|█████████████████████████████████████████| 600/600 [04:24<00:00,  2.27it/s]\n",
      "100%|█████████████████████████████████████████| 100/100 [00:08<00:00, 11.23it/s]\n"
     ]
    },
    {
     "name": "stdout",
     "output_type": "stream",
     "text": [
      "Train Epoch 4\t Loss: 1.001760\t Test Accuracy 72.920 \t lr: 0.0010\n",
      "Best accuracy: 72.920 \n"
     ]
    },
    {
     "name": "stderr",
     "output_type": "stream",
     "text": [
      "100%|█████████████████████████████████████████| 600/600 [04:24<00:00,  2.27it/s]\n",
      "100%|█████████████████████████████████████████| 100/100 [00:09<00:00, 10.99it/s]\n"
     ]
    },
    {
     "name": "stdout",
     "output_type": "stream",
     "text": [
      "Train Epoch 5\t Loss: 0.974674\t Test Accuracy 73.330 \t lr: 0.0010\n",
      "Best accuracy: 73.330 \n"
     ]
    },
    {
     "name": "stderr",
     "output_type": "stream",
     "text": [
      "100%|█████████████████████████████████████████| 600/600 [04:26<00:00,  2.25it/s]\n",
      "100%|█████████████████████████████████████████| 100/100 [00:09<00:00, 11.08it/s]\n"
     ]
    },
    {
     "name": "stdout",
     "output_type": "stream",
     "text": [
      "Train Epoch 6\t Loss: 0.950414\t Test Accuracy 74.890 \t lr: 0.0010\n",
      "Best accuracy: 74.890 \n"
     ]
    },
    {
     "name": "stderr",
     "output_type": "stream",
     "text": [
      "100%|█████████████████████████████████████████| 600/600 [04:14<00:00,  2.35it/s]\n",
      "100%|█████████████████████████████████████████| 100/100 [00:09<00:00, 10.77it/s]\n"
     ]
    },
    {
     "name": "stdout",
     "output_type": "stream",
     "text": [
      "Train Epoch 7\t Loss: 0.932130\t Test Accuracy 76.180 \t lr: 0.0010\n",
      "Best accuracy: 76.180 \n"
     ]
    },
    {
     "name": "stderr",
     "output_type": "stream",
     "text": [
      "100%|█████████████████████████████████████████| 600/600 [04:58<00:00,  2.01it/s]\n",
      "100%|█████████████████████████████████████████| 100/100 [00:08<00:00, 11.17it/s]\n"
     ]
    },
    {
     "name": "stdout",
     "output_type": "stream",
     "text": [
      "Train Epoch 8\t Loss: 0.916437\t Test Accuracy 76.600 \t lr: 0.0010\n",
      "Best accuracy: 76.600 \n"
     ]
    },
    {
     "name": "stderr",
     "output_type": "stream",
     "text": [
      "100%|█████████████████████████████████████████| 600/600 [04:22<00:00,  2.29it/s]\n",
      "100%|█████████████████████████████████████████| 100/100 [00:09<00:00, 10.91it/s]\n"
     ]
    },
    {
     "name": "stdout",
     "output_type": "stream",
     "text": [
      "Train Epoch 9\t Loss: 0.903156\t Test Accuracy 77.570 \t lr: 0.0010\n",
      "Best accuracy: 77.570 \n"
     ]
    },
    {
     "name": "stderr",
     "output_type": "stream",
     "text": [
      "100%|█████████████████████████████████████████| 600/600 [04:22<00:00,  2.28it/s]\n",
      "100%|█████████████████████████████████████████| 100/100 [00:08<00:00, 11.19it/s]\n"
     ]
    },
    {
     "name": "stdout",
     "output_type": "stream",
     "text": [
      "Train Epoch 10\t Loss: 0.888029\t Test Accuracy 76.990 \t lr: 0.0010\n",
      "Best accuracy: 77.570 \n"
     ]
    },
    {
     "name": "stderr",
     "output_type": "stream",
     "text": [
      "100%|█████████████████████████████████████████| 600/600 [04:21<00:00,  2.30it/s]\n",
      "100%|█████████████████████████████████████████| 100/100 [00:09<00:00, 11.06it/s]\n"
     ]
    },
    {
     "name": "stdout",
     "output_type": "stream",
     "text": [
      "Train Epoch 11\t Loss: 0.877136\t Test Accuracy 78.310 \t lr: 0.0010\n",
      "Best accuracy: 78.310 \n"
     ]
    },
    {
     "name": "stderr",
     "output_type": "stream",
     "text": [
      "100%|█████████████████████████████████████████| 600/600 [04:23<00:00,  2.27it/s]\n",
      "100%|█████████████████████████████████████████| 100/100 [00:08<00:00, 11.14it/s]\n"
     ]
    },
    {
     "name": "stdout",
     "output_type": "stream",
     "text": [
      "Train Epoch 12\t Loss: 0.869191\t Test Accuracy 78.070 \t lr: 0.0010\n",
      "Best accuracy: 78.310 \n"
     ]
    },
    {
     "name": "stderr",
     "output_type": "stream",
     "text": [
      "100%|█████████████████████████████████████████| 600/600 [04:32<00:00,  2.20it/s]\n",
      "100%|█████████████████████████████████████████| 100/100 [00:09<00:00, 10.53it/s]\n"
     ]
    },
    {
     "name": "stdout",
     "output_type": "stream",
     "text": [
      "Train Epoch 13\t Loss: 0.860188\t Test Accuracy 78.550 \t lr: 0.0010\n",
      "Best accuracy: 78.550 \n"
     ]
    },
    {
     "name": "stderr",
     "output_type": "stream",
     "text": [
      "100%|█████████████████████████████████████████| 600/600 [04:22<00:00,  2.28it/s]\n",
      "100%|█████████████████████████████████████████| 100/100 [00:09<00:00, 11.02it/s]\n"
     ]
    },
    {
     "name": "stdout",
     "output_type": "stream",
     "text": [
      "Train Epoch 14\t Loss: 0.853293\t Test Accuracy 78.730 \t lr: 0.0010\n",
      "Best accuracy: 78.730 \n"
     ]
    },
    {
     "name": "stderr",
     "output_type": "stream",
     "text": [
      "100%|█████████████████████████████████████████| 600/600 [04:30<00:00,  2.21it/s]\n",
      "100%|█████████████████████████████████████████| 100/100 [00:09<00:00, 11.00it/s]\n"
     ]
    },
    {
     "name": "stdout",
     "output_type": "stream",
     "text": [
      "Train Epoch 15\t Loss: 0.844723\t Test Accuracy 78.740 \t lr: 0.0010\n",
      "Best accuracy: 78.740 \n"
     ]
    },
    {
     "data": {
      "image/png": "[encoded data removed]",
      "text/plain": [
       "<Figure size 640x480 with 1 Axes>"
      ]
     },
     "metadata": {},
     "output_type": "display_data"
    }
   ],
   "source": [
    "import torch\n",
    "import torchvision\n",
    "import torchvision.transforms as transforms\n",
    "import importlib\n",
    "import matplotlib.pyplot as plt\n",
    "\n",
    "device = torch.device(\"cuda:0\" if torch.cuda.is_available() else \"cpu\")\n",
    "\n",
    "train_set = torchvision.datasets.FashionMNIST(\"./data\", download=True, transform=\n",
    "                                                transforms.Compose([transforms.ToTensor()]))\n",
    "test_set = torchvision.datasets.FashionMNIST(\"./data\", download=True, train=False, transform=\n",
    "                                               transforms.Compose([transforms.ToTensor()]))\n",
    "\n",
    "train_loader = torch.utils.data.DataLoader(train_set, \n",
    "                                           batch_size=100)\n",
    "test_loader = torch.utils.data.DataLoader(test_set,\n",
    "                                          batch_size=100)\n",
    "\n",
    "model = BNNCaffenet()\n",
    "model.to(device)\n",
    "\n",
    "\n",
    "classification = Classifier(model, train_loader, test_loader, device)\n",
    "\n",
    "criterion = torch.nn.CrossEntropyLoss()\n",
    "criterion.to(device)\n",
    "\n",
    "if hasattr(model, 'init_w'):\n",
    "    model.init_w()\n",
    "\n",
    "\n",
    "optimizer = torch.optim.SGD(model.parameters(), lr=lr,momentum=0.9, weight_decay=1e-5)\n",
    "#print(optimizer)\n",
    "\n",
    "scheduler = torch.optim.lr_scheduler.MultiStepLR(optimizer, steps, gamma=gamma)\n",
    "\n",
    "classification.train(criterion, optimizer, epochs, scheduler, checkpoint)"
   ]
  },
  {
   "cell_type": "markdown",
   "id": "fe8a3b73",
   "metadata": {},
   "source": [
    "### Accuracy by categories"
   ]
  },
  {
   "cell_type": "code",
   "execution_count": 10,
   "id": "92d151b0",
   "metadata": {},
   "outputs": [
    {
     "name": "stdout",
     "output_type": "stream",
     "text": [
      "Accuracy of T-shirt/Top: 77.10%\n",
      "Accuracy of Trouser: 91.00%\n",
      "Accuracy of Pullover: 68.70%\n",
      "Accuracy of Dress: 85.70%\n",
      "Accuracy of Coat: 58.80%\n",
      "Accuracy of Sandal: 87.00%\n",
      "Accuracy of Shirt: 45.40%\n",
      "Accuracy of Sneaker: 88.70%\n",
      "Accuracy of Bag: 93.40%\n",
      "Accuracy of Ankle Boot: 91.60%\n"
     ]
    }
   ],
   "source": [
    "from torch.autograd import Variable\n",
    "class_correct = [0. for _ in range(10)]\n",
    "total_correct = [0. for _ in range(10)]\n",
    "\n",
    "with torch.no_grad():\n",
    "    for images, labels in test_loader:\n",
    "        images, labels = images.to(device), labels.to(device)\n",
    "        test = Variable(images)\n",
    "        outputs = model(test)\n",
    "        predicted = torch.max(outputs, 1)[1]\n",
    "        c = (predicted == labels).squeeze()\n",
    "        \n",
    "        for i in range(100):\n",
    "            label = labels[i]\n",
    "            class_correct[label] += c[i].item()\n",
    "            total_correct[label] += 1\n",
    "        \n",
    "for i in range(10):\n",
    "    print(\"Accuracy of {}: {:.2f}%\".format(output_label(i), class_correct[i] * 100 / total_correct[i]))\n",
    "\n"
   ]
  },
  {
   "cell_type": "markdown",
   "id": "5c6ff7d2",
   "metadata": {},
   "source": [
    "### Realization of the alternative model"
   ]
  },
  {
   "cell_type": "code",
   "execution_count": 11,
   "id": "08872814",
   "metadata": {
    "scrolled": false
   },
   "outputs": [
    {
     "name": "stderr",
     "output_type": "stream",
     "text": [
      "100%|█████████████████████████████████████████| 600/600 [04:20<00:00,  2.31it/s]\n",
      "100%|█████████████████████████████████████████| 100/100 [00:08<00:00, 11.78it/s]\n"
     ]
    },
    {
     "name": "stdout",
     "output_type": "stream",
     "text": [
      "Train Epoch 1\t Loss: 0.711111\t Test Accuracy 87.160 \t lr: 0.0010\n",
      "Best accuracy: 87.160 \n"
     ]
    },
    {
     "name": "stderr",
     "output_type": "stream",
     "text": [
      "100%|█████████████████████████████████████████| 600/600 [04:17<00:00,  2.33it/s]\n",
      "100%|█████████████████████████████████████████| 100/100 [00:08<00:00, 11.68it/s]\n"
     ]
    },
    {
     "name": "stdout",
     "output_type": "stream",
     "text": [
      "Train Epoch 2\t Loss: 0.593765\t Test Accuracy 88.970 \t lr: 0.0010\n",
      "Best accuracy: 88.970 \n"
     ]
    },
    {
     "name": "stderr",
     "output_type": "stream",
     "text": [
      "100%|█████████████████████████████████████████| 600/600 [04:22<00:00,  2.28it/s]\n",
      "100%|█████████████████████████████████████████| 100/100 [00:08<00:00, 11.40it/s]\n"
     ]
    },
    {
     "name": "stdout",
     "output_type": "stream",
     "text": [
      "Train Epoch 3\t Loss: 0.558925\t Test Accuracy 89.670 \t lr: 0.0010\n",
      "Best accuracy: 89.670 \n"
     ]
    },
    {
     "name": "stderr",
     "output_type": "stream",
     "text": [
      "100%|█████████████████████████████████████████| 600/600 [04:25<00:00,  2.26it/s]\n",
      "100%|█████████████████████████████████████████| 100/100 [00:08<00:00, 11.58it/s]\n"
     ]
    },
    {
     "name": "stdout",
     "output_type": "stream",
     "text": [
      "Train Epoch 4\t Loss: 0.535075\t Test Accuracy 90.170 \t lr: 0.0010\n",
      "Best accuracy: 90.170 \n"
     ]
    },
    {
     "name": "stderr",
     "output_type": "stream",
     "text": [
      "100%|█████████████████████████████████████████| 600/600 [04:25<00:00,  2.26it/s]\n",
      "100%|█████████████████████████████████████████| 100/100 [00:08<00:00, 11.72it/s]\n"
     ]
    },
    {
     "name": "stdout",
     "output_type": "stream",
     "text": [
      "Train Epoch 5\t Loss: 0.516362\t Test Accuracy 90.700 \t lr: 0.0010\n",
      "Best accuracy: 90.700 \n"
     ]
    },
    {
     "name": "stderr",
     "output_type": "stream",
     "text": [
      "100%|█████████████████████████████████████████| 600/600 [04:16<00:00,  2.33it/s]\n",
      "100%|█████████████████████████████████████████| 100/100 [00:08<00:00, 11.59it/s]\n"
     ]
    },
    {
     "name": "stdout",
     "output_type": "stream",
     "text": [
      "Train Epoch 6\t Loss: 0.500087\t Test Accuracy 90.900 \t lr: 0.0010\n",
      "Best accuracy: 90.900 \n"
     ]
    },
    {
     "name": "stderr",
     "output_type": "stream",
     "text": [
      "100%|█████████████████████████████████████████| 600/600 [04:27<00:00,  2.24it/s]\n",
      "100%|█████████████████████████████████████████| 100/100 [00:08<00:00, 11.95it/s]\n"
     ]
    },
    {
     "name": "stdout",
     "output_type": "stream",
     "text": [
      "Train Epoch 7\t Loss: 0.486317\t Test Accuracy 91.090 \t lr: 0.0010\n",
      "Best accuracy: 91.090 \n"
     ]
    },
    {
     "name": "stderr",
     "output_type": "stream",
     "text": [
      "100%|█████████████████████████████████████████| 600/600 [04:15<00:00,  2.34it/s]\n",
      "100%|█████████████████████████████████████████| 100/100 [00:08<00:00, 11.62it/s]\n"
     ]
    },
    {
     "name": "stdout",
     "output_type": "stream",
     "text": [
      "Train Epoch 8\t Loss: 0.473538\t Test Accuracy 91.020 \t lr: 0.0010\n",
      "Best accuracy: 91.090 \n"
     ]
    },
    {
     "name": "stderr",
     "output_type": "stream",
     "text": [
      "100%|█████████████████████████████████████████| 600/600 [04:29<00:00,  2.22it/s]\n",
      "100%|█████████████████████████████████████████| 100/100 [00:08<00:00, 11.57it/s]\n"
     ]
    },
    {
     "name": "stdout",
     "output_type": "stream",
     "text": [
      "Train Epoch 9\t Loss: 0.461719\t Test Accuracy 91.220 \t lr: 0.0010\n",
      "Best accuracy: 91.220 \n"
     ]
    },
    {
     "name": "stderr",
     "output_type": "stream",
     "text": [
      "100%|█████████████████████████████████████████| 600/600 [04:26<00:00,  2.25it/s]\n",
      "100%|█████████████████████████████████████████| 100/100 [00:08<00:00, 11.71it/s]\n"
     ]
    },
    {
     "name": "stdout",
     "output_type": "stream",
     "text": [
      "Train Epoch 10\t Loss: 0.451378\t Test Accuracy 91.270 \t lr: 0.0010\n",
      "Best accuracy: 91.270 \n"
     ]
    },
    {
     "name": "stderr",
     "output_type": "stream",
     "text": [
      "100%|█████████████████████████████████████████| 600/600 [04:19<00:00,  2.31it/s]\n",
      "100%|█████████████████████████████████████████| 100/100 [00:08<00:00, 11.67it/s]\n"
     ]
    },
    {
     "name": "stdout",
     "output_type": "stream",
     "text": [
      "Train Epoch 11\t Loss: 0.441996\t Test Accuracy 91.410 \t lr: 0.0010\n",
      "Best accuracy: 91.410 \n"
     ]
    },
    {
     "name": "stderr",
     "output_type": "stream",
     "text": [
      "100%|█████████████████████████████████████████| 600/600 [04:19<00:00,  2.31it/s]\n",
      "100%|█████████████████████████████████████████| 100/100 [00:08<00:00, 11.67it/s]\n"
     ]
    },
    {
     "name": "stdout",
     "output_type": "stream",
     "text": [
      "Train Epoch 12\t Loss: 0.433544\t Test Accuracy 91.620 \t lr: 0.0010\n",
      "Best accuracy: 91.620 \n"
     ]
    },
    {
     "name": "stderr",
     "output_type": "stream",
     "text": [
      "100%|█████████████████████████████████████████| 600/600 [04:18<00:00,  2.32it/s]\n",
      "100%|█████████████████████████████████████████| 100/100 [00:08<00:00, 11.60it/s]\n"
     ]
    },
    {
     "name": "stdout",
     "output_type": "stream",
     "text": [
      "Train Epoch 13\t Loss: 0.425485\t Test Accuracy 91.420 \t lr: 0.0010\n",
      "Best accuracy: 91.620 \n"
     ]
    },
    {
     "name": "stderr",
     "output_type": "stream",
     "text": [
      "100%|█████████████████████████████████████████| 600/600 [04:27<00:00,  2.25it/s]\n",
      "100%|█████████████████████████████████████████| 100/100 [00:08<00:00, 11.60it/s]\n"
     ]
    },
    {
     "name": "stdout",
     "output_type": "stream",
     "text": [
      "Train Epoch 14\t Loss: 0.418874\t Test Accuracy 91.560 \t lr: 0.0010\n",
      "Best accuracy: 91.620 \n"
     ]
    },
    {
     "name": "stderr",
     "output_type": "stream",
     "text": [
      "100%|█████████████████████████████████████████| 600/600 [04:22<00:00,  2.29it/s]\n",
      "100%|█████████████████████████████████████████| 100/100 [00:08<00:00, 11.67it/s]\n"
     ]
    },
    {
     "name": "stdout",
     "output_type": "stream",
     "text": [
      "Train Epoch 15\t Loss: 0.412615\t Test Accuracy 91.440 \t lr: 0.0010\n",
      "Best accuracy: 91.620 \n"
     ]
    },
    {
     "data": {
      "image/png": "[encoded data removed]",
      "text/plain": [
       "<Figure size 640x480 with 1 Axes>"
      ]
     },
     "metadata": {},
     "output_type": "display_data"
    }
   ],
   "source": [
    "import matplotlib.pyplot as plt\n",
    "device = torch.device(\"cuda:0\" if torch.cuda.is_available() else \"cpu\")\n",
    "\n",
    "train_set = torchvision.datasets.FashionMNIST(\"./data\", download=True, transform=\n",
    "                                                transforms.Compose([transforms.ToTensor()]))\n",
    "test_set = torchvision.datasets.FashionMNIST(\"./data\", download=True, train=False, transform=\n",
    "                                               transforms.Compose([transforms.ToTensor()]))\n",
    "\n",
    "train_loader = torch.utils.data.DataLoader(train_set, \n",
    "                                           batch_size=100)\n",
    "test_loader = torch.utils.data.DataLoader(test_set,\n",
    "                                          batch_size=100)\n",
    "\n",
    "model_1 = FashionNN()\n",
    "model_1.to(device)\n",
    "\n",
    "\n",
    "classification = Classifier(model_1, train_loader, test_loader, device)\n",
    "\n",
    "criterion = torch.nn.CrossEntropyLoss()\n",
    "criterion.to(device)\n",
    "\n",
    "#if hasattr(model_1, 'init_w'):\n",
    "#    model.init_w()\n",
    "\n",
    "\n",
    "optimizer = torch.optim.SGD(model_1.parameters(), lr=lr,momentum=0.9, weight_decay=1e-5)\n",
    "#print(optimizer)\n",
    "\n",
    "scheduler = torch.optim.lr_scheduler.MultiStepLR(optimizer, steps, gamma=gamma)\n",
    "\n",
    "classification.train(criterion, optimizer, epochs, scheduler, checkpoint)"
   ]
  },
  {
   "cell_type": "markdown",
   "id": "d39e2ffc",
   "metadata": {},
   "source": [
    "### Accuracy by categories"
   ]
  },
  {
   "cell_type": "code",
   "execution_count": 12,
   "id": "1f91725d",
   "metadata": {},
   "outputs": [
    {
     "name": "stdout",
     "output_type": "stream",
     "text": [
      "Accuracy of T-shirt/Top: 77.10%\n",
      "Accuracy of Trouser: 91.00%\n",
      "Accuracy of Pullover: 68.70%\n",
      "Accuracy of Dress: 85.70%\n",
      "Accuracy of Coat: 58.80%\n",
      "Accuracy of Sandal: 87.00%\n",
      "Accuracy of Shirt: 45.40%\n",
      "Accuracy of Sneaker: 88.70%\n",
      "Accuracy of Bag: 93.40%\n",
      "Accuracy of Ankle Boot: 91.60%\n"
     ]
    }
   ],
   "source": [
    "class_correct = [0. for _ in range(10)]\n",
    "total_correct = [0. for _ in range(10)]\n",
    "\n",
    "with torch.no_grad():\n",
    "    for images, labels in test_loader:\n",
    "        images, labels = images.to(device), labels.to(device)\n",
    "        test = Variable(images)\n",
    "        outputs = model(test)\n",
    "        predicted = torch.max(outputs, 1)[1]\n",
    "        c = (predicted == labels).squeeze()\n",
    "        \n",
    "        for i in range(100):\n",
    "            label = labels[i]\n",
    "            class_correct[label] += c[i].item()\n",
    "            total_correct[label] += 1\n",
    "        \n",
    "for i in range(10):\n",
    "    print(\"Accuracy of {}: {:.2f}%\".format(output_label(i), class_correct[i] * 100 / total_correct[i]))\n"
   ]
  },
  {
   "cell_type": "code",
   "execution_count": null,
   "id": "c242ea58",
   "metadata": {},
   "outputs": [],
   "source": []
  },
  {
   "cell_type": "code",
   "execution_count": null,
   "id": "90f3221e",
   "metadata": {},
   "outputs": [],
   "source": []
  }
 ],
 "metadata": {
  "kernelspec": {
   "display_name": "Python 3 (ipykernel)",
   "language": "python",
   "name": "python3"
  },
  "language_info": {
   "codemirror_mode": {
    "name": "ipython",
    "version": 3
   },
   "file_extension": ".py",
   "mimetype": "text/x-python",
   "name": "python",
   "nbconvert_exporter": "python",
   "pygments_lexer": "ipython3",
   "version": "3.9.13"
  }
 },
 "nbformat": 4,
 "nbformat_minor": 5
}
